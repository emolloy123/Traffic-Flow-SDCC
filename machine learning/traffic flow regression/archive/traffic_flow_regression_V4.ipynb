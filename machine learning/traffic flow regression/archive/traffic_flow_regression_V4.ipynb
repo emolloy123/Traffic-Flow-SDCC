{
 "cells": [
  {
   "attachments": {},
   "cell_type": "markdown",
   "metadata": {},
   "source": [
    "# Traffic Flow Regression - V4\n",
    "## - <i>Model Selection: Hyperparameter Tuning</i>\n",
    " - this notebook builds upon traffic_flow_regression_V3 by selecting the optimal model with the optimal hyperparameters\n",
    " - see EDA.ipynb for a deeper understanding of the data"
   ]
  },
  {
   "attachments": {},
   "cell_type": "markdown",
   "metadata": {},
   "source": [
    "# Imports"
   ]
  },
  {
   "cell_type": "code",
   "execution_count": 50,
   "metadata": {},
   "outputs": [],
   "source": [
    "import pandas as pd\n",
    "import seaborn as sns\n",
    "import matplotlib.pyplot as plt\n",
    "from scipy import stats\n",
    "from sklearn.model_selection import train_test_split, KFold, cross_val_score, cross_validate, validation_curve\n",
    "from sklearn.linear_model import LinearRegression, SGDRegressor, Ridge, Lasso, ElasticNet\n",
    "from sklearn.preprocessing import OneHotEncoder, StandardScaler, PolynomialFeatures\n",
    "from sklearn.tree import DecisionTreeRegressor\n",
    "from sklearn.ensemble import RandomForestRegressor, GradientBoostingRegressor\n",
    "from sklearn.metrics import mean_absolute_error, mean_squared_error, r2_score, make_scorer\n",
    "from sklearn.compose import ColumnTransformer\n",
    "from sklearn.pipeline import Pipeline\n",
    "from sklearn.impute import SimpleImputer\n",
    "import numpy as np\n",
    "from mlxtend.evaluate import bias_variance_decomp\n",
    "from sklearn.neighbors import KNeighborsRegressor\n",
    "from sklearn.neural_network import MLPRegressor\n",
    "from sklearn.svm import SVR\n"
   ]
  },
  {
   "attachments": {},
   "cell_type": "markdown",
   "metadata": {},
   "source": [
    "# Read Dataset for site N03121A\n",
    "We will focus on site N03121A again"
   ]
  },
  {
   "cell_type": "code",
   "execution_count": 51,
   "metadata": {},
   "outputs": [
    {
     "data": {
      "text/html": [
       "<div>\n",
       "<style scoped>\n",
       "    .dataframe tbody tr th:only-of-type {\n",
       "        vertical-align: middle;\n",
       "    }\n",
       "\n",
       "    .dataframe tbody tr th {\n",
       "        vertical-align: top;\n",
       "    }\n",
       "\n",
       "    .dataframe thead th {\n",
       "        text-align: right;\n",
       "    }\n",
       "</style>\n",
       "<table border=\"1\" class=\"dataframe\">\n",
       "  <thead>\n",
       "    <tr style=\"text-align: right;\">\n",
       "      <th></th>\n",
       "      <th>time_(half_hour)</th>\n",
       "      <th>start_time</th>\n",
       "      <th>site</th>\n",
       "      <th>day</th>\n",
       "      <th>date</th>\n",
       "      <th>X</th>\n",
       "      <th>Y</th>\n",
       "      <th>flow</th>\n",
       "      <th>month</th>\n",
       "      <th>time_(hour)</th>\n",
       "      <th>...</th>\n",
       "      <th>ind</th>\n",
       "      <th>rain</th>\n",
       "      <th>ind.1</th>\n",
       "      <th>temp</th>\n",
       "      <th>ind.2</th>\n",
       "      <th>wetb</th>\n",
       "      <th>dewpt</th>\n",
       "      <th>vappr</th>\n",
       "      <th>rhum</th>\n",
       "      <th>msl</th>\n",
       "    </tr>\n",
       "  </thead>\n",
       "  <tbody>\n",
       "    <tr>\n",
       "      <th>700</th>\n",
       "      <td>00:00</td>\n",
       "      <td>2024-10-12 00:00:00</td>\n",
       "      <td>N03121A</td>\n",
       "      <td>FR</td>\n",
       "      <td>2022-01-04</td>\n",
       "      <td>-6.424314</td>\n",
       "      <td>53.357202</td>\n",
       "      <td>109</td>\n",
       "      <td>1</td>\n",
       "      <td>0</td>\n",
       "      <td>...</td>\n",
       "      <td>0</td>\n",
       "      <td>0.0</td>\n",
       "      <td>0</td>\n",
       "      <td>3.6</td>\n",
       "      <td>0</td>\n",
       "      <td>2.2</td>\n",
       "      <td>-0.3</td>\n",
       "      <td>6.0</td>\n",
       "      <td>75</td>\n",
       "      <td>1003.5</td>\n",
       "    </tr>\n",
       "    <tr>\n",
       "      <th>701</th>\n",
       "      <td>00:00</td>\n",
       "      <td>2024-10-12 00:00:00</td>\n",
       "      <td>N03121A</td>\n",
       "      <td>FR</td>\n",
       "      <td>2022-01-14</td>\n",
       "      <td>-6.424314</td>\n",
       "      <td>53.357202</td>\n",
       "      <td>97</td>\n",
       "      <td>1</td>\n",
       "      <td>0</td>\n",
       "      <td>...</td>\n",
       "      <td>0</td>\n",
       "      <td>0.0</td>\n",
       "      <td>0</td>\n",
       "      <td>4.1</td>\n",
       "      <td>0</td>\n",
       "      <td>3.5</td>\n",
       "      <td>2.6</td>\n",
       "      <td>7.4</td>\n",
       "      <td>90</td>\n",
       "      <td>1039.5</td>\n",
       "    </tr>\n",
       "    <tr>\n",
       "      <th>702</th>\n",
       "      <td>00:00</td>\n",
       "      <td>2024-10-12 00:00:00</td>\n",
       "      <td>N03121A</td>\n",
       "      <td>FR</td>\n",
       "      <td>2022-01-21</td>\n",
       "      <td>-6.424314</td>\n",
       "      <td>53.357202</td>\n",
       "      <td>90</td>\n",
       "      <td>1</td>\n",
       "      <td>0</td>\n",
       "      <td>...</td>\n",
       "      <td>0</td>\n",
       "      <td>0.0</td>\n",
       "      <td>0</td>\n",
       "      <td>4.9</td>\n",
       "      <td>0</td>\n",
       "      <td>3.9</td>\n",
       "      <td>2.5</td>\n",
       "      <td>7.3</td>\n",
       "      <td>84</td>\n",
       "      <td>1042.1</td>\n",
       "    </tr>\n",
       "    <tr>\n",
       "      <th>703</th>\n",
       "      <td>00:00</td>\n",
       "      <td>2024-10-12 00:00:00</td>\n",
       "      <td>N03121A</td>\n",
       "      <td>FR</td>\n",
       "      <td>2022-01-28</td>\n",
       "      <td>-6.424314</td>\n",
       "      <td>53.357202</td>\n",
       "      <td>96</td>\n",
       "      <td>1</td>\n",
       "      <td>0</td>\n",
       "      <td>...</td>\n",
       "      <td>0</td>\n",
       "      <td>0.0</td>\n",
       "      <td>0</td>\n",
       "      <td>2.9</td>\n",
       "      <td>0</td>\n",
       "      <td>2.6</td>\n",
       "      <td>2.0</td>\n",
       "      <td>7.1</td>\n",
       "      <td>93</td>\n",
       "      <td>1035.3</td>\n",
       "    </tr>\n",
       "    <tr>\n",
       "      <th>704</th>\n",
       "      <td>00:00</td>\n",
       "      <td>2024-10-12 00:00:00</td>\n",
       "      <td>N03121A</td>\n",
       "      <td>FR</td>\n",
       "      <td>2022-02-18</td>\n",
       "      <td>-6.424314</td>\n",
       "      <td>53.357202</td>\n",
       "      <td>149</td>\n",
       "      <td>2</td>\n",
       "      <td>0</td>\n",
       "      <td>...</td>\n",
       "      <td>0</td>\n",
       "      <td>1.0</td>\n",
       "      <td>0</td>\n",
       "      <td>4.0</td>\n",
       "      <td>0</td>\n",
       "      <td>3.5</td>\n",
       "      <td>2.7</td>\n",
       "      <td>7.4</td>\n",
       "      <td>91</td>\n",
       "      <td>995.2</td>\n",
       "    </tr>\n",
       "  </tbody>\n",
       "</table>\n",
       "<p>5 rows × 39 columns</p>\n",
       "</div>"
      ],
      "text/plain": [
       "    time_(half_hour)           start_time     site day        date         X  \\\n",
       "700            00:00  2024-10-12 00:00:00  N03121A  FR  2022-01-04 -6.424314   \n",
       "701            00:00  2024-10-12 00:00:00  N03121A  FR  2022-01-14 -6.424314   \n",
       "702            00:00  2024-10-12 00:00:00  N03121A  FR  2022-01-21 -6.424314   \n",
       "703            00:00  2024-10-12 00:00:00  N03121A  FR  2022-01-28 -6.424314   \n",
       "704            00:00  2024-10-12 00:00:00  N03121A  FR  2022-02-18 -6.424314   \n",
       "\n",
       "             Y  flow  month  time_(hour)  ... ind  rain  ind.1  temp  ind.2  \\\n",
       "700  53.357202   109      1            0  ...   0   0.0      0   3.6      0   \n",
       "701  53.357202    97      1            0  ...   0   0.0      0   4.1      0   \n",
       "702  53.357202    90      1            0  ...   0   0.0      0   4.9      0   \n",
       "703  53.357202    96      1            0  ...   0   0.0      0   2.9      0   \n",
       "704  53.357202   149      2            0  ...   0   1.0      0   4.0      0   \n",
       "\n",
       "     wetb  dewpt  vappr  rhum     msl  \n",
       "700   2.2   -0.3    6.0    75  1003.5  \n",
       "701   3.5    2.6    7.4    90  1039.5  \n",
       "702   3.9    2.5    7.3    84  1042.1  \n",
       "703   2.6    2.0    7.1    93  1035.3  \n",
       "704   3.5    2.7    7.4    91   995.2  \n",
       "\n",
       "[5 rows x 39 columns]"
      ]
     },
     "execution_count": 51,
     "metadata": {},
     "output_type": "execute_result"
    }
   ],
   "source": [
    "overall_df = pd.read_csv('ml_datasets/v2_dataset.csv')\n",
    "df = overall_df[overall_df['site']=='N03121A']\n",
    "df.head()"
   ]
  },
  {
   "cell_type": "code",
   "execution_count": 52,
   "metadata": {},
   "outputs": [],
   "source": [
    "cat_features = ['day', 'time_(hour)']\n",
    "num_features = ['previous_flow_N01111A','previous_flow_N01151A','previous_flow_N02111A','previous_flow_N02131A','previous_flow_N03121A','overall_previous_flow',\n",
    "                'distance_N01111A',\n",
    "       'duration_N01111A',\n",
    "       'distance_N01151A', 'duration_N01151A', 'distance_N02111A',\n",
    "       'duration_N02111A', 'distance_N02131A', 'duration_N02131A',\n",
    "       'distance_N03121A', 'duration_N03121A',\n",
    "       'rain', 'temp', 'wetb', 'dewpt', 'vappr', 'rhum',\n",
    "       'msl']\n"
   ]
  },
  {
   "attachments": {},
   "cell_type": "markdown",
   "metadata": {},
   "source": [
    "# Model Selection\n",
    "- From v2 notebook we saw Linear Regression, KNN and the multi-layer perceptron gave the best performance for predicting the traffic flow\n",
    "- We will now focus on landing on the best final model to use via hyperparameter tuning"
   ]
  },
  {
   "attachments": {},
   "cell_type": "markdown",
   "metadata": {},
   "source": [
    "## 1. An interpretable model\n",
    "- Interpretability of a machine learning model can often be hugely important and valuable for key stakeholders\n",
    "- Deep learning and neural networks create models that can provide excellent performance, however the complexity of these models make them difficult to interpret, meaning we cannot understand why the network is predicting the way it is based on the input features\n",
    "**Why is interpretability important?**\n",
    "- One of the use cases of our traffic flow model could be to help make decisions on traffic management systems\n",
    "- Having accurate predictions of traffic flow is definetly useful, but what is also useful is understanding why traffic is predicted to be higher at a certain time \n",
    "- This could perhaps help the council identify some root causes of high traffic flow and thus fix any problems at the root of the issue rather than responding to traffic flow in real time with our complex but accurate neural network model\n",
    "- Don't get me wrong, having an accurate prediction model is still hugely useful, especially in a scenario like this where you are realistically always going to have periods of high traffic flow. However with the massive advances in machine learning it can become easy to dismiss simpler models if they are not providing sufficient predictive power. However issues like this highlight they are still hugely usefula and actually display real benefits over powerful neural networks at times"
   ]
  },
  {
   "attachments": {},
   "cell_type": "markdown",
   "metadata": {},
   "source": [
    "### 1.1 Linear Regression\n",
    "In notebook V1 we tried out using a linear regression model. We saw that the results weren't great but let's investigate this more rigorously and explain clearly why it doesn't work\n",
    "- we won't concern ourselves with the data preprocessing here as it is standard enough (one hot encoding and numerical feature scaling)"
   ]
  },
  {
   "cell_type": "code",
   "execution_count": null,
   "metadata": {},
   "outputs": [],
   "source": [
    "preprocessor = ColumnTransformer(\n",
    "        transformers=[\n",
    "            ('num', Pipeline(steps=[\n",
    "                ('imputer', SimpleImputer(strategy='constant', fill_value=0)),  # Replace missing values with 0\n",
    "                ('scaler', StandardScaler())  # Standardize numerical features\n",
    "            ]), num_features),\n",
    "            ('cat', OneHotEncoder(handle_unknown='ignore'), cat_features)  # Encode categorical features\n",
    "        ]\n",
    "        )\n",
    "\n",
    "# Create the pipeline\n",
    "pipeline_lr = Pipeline(steps=[\n",
    "    ('preprocessor', preprocessor),\n",
    "    ('regressor', LinearRegression())  # Set the depth\n",
    "])"
   ]
  },
  {
   "attachments": {},
   "cell_type": "markdown",
   "metadata": {},
   "source": [
    "Lets now evaluate the performance of linear regression using 5-fold cross validation on the train and test cets"
   ]
  },
  {
   "cell_type": "code",
   "execution_count": null,
   "metadata": {},
   "outputs": [],
   "source": [
    "def cross_validate_train_and_test(pipeline, cv, X, y):\n",
    "\n",
    "    kf = KFold(n_splits=cv, shuffle=True, random_state=42)\n",
    "\n",
    "    train_maes = []\n",
    "    test_maes = []\n",
    "\n",
    "    train_r2s = []\n",
    "    test_r2s = []\n",
    "\n",
    "    for train_index, val_index in kf.split(X):\n",
    "        X_cv_train, X_cv_val = X.iloc[train_index], X.iloc[val_index]  # Use iloc for DataFrame\n",
    "        y_cv_train, y_cv_val = y.iloc[train_index], y.iloc[val_index]  # Consistent naming\n",
    "\n",
    "        # Fit the model\n",
    "        pipeline.fit(X_cv_train, y_cv_train)\n",
    "\n",
    "        # Calculate train and test errors\n",
    "        predictions_train = pipeline.predict(X_cv_train)\n",
    "        predictions_val = pipeline.predict(X_cv_val)\n",
    "        \n",
    "        mae_train = mean_absolute_error(y_cv_train, predictions_train)\n",
    "        mae_val = mean_absolute_error(y_cv_val, predictions_val)\n",
    "\n",
    "        r2_train = r2_score(y_cv_train, predictions_train)\n",
    "        r2_test = r2_score(y_cv_val, predictions_val)\n",
    "\n",
    "\n",
    "        train_maes.append(mae_train)\n",
    "        test_maes.append(mae_val)\n",
    "\n",
    "        train_r2s.append(r2_train)\n",
    "        test_r2s.append(r2_test)\n",
    "\n",
    "    mean_mae_test = np.mean(test_maes)\n",
    "    mean_mae_train = np.mean(train_maes)\n",
    "    mean_r2_test = np.mean(test_r2s)\n",
    "    mean_r2_train = np.mean(train_r2s)\n",
    "\n",
    "    print('Mean MAE Test:', mean_mae_test)\n",
    "    print('Mean MAE Train:', mean_mae_train)\n",
    "    print('Mean R2 Test:', mean_r2_test)\n",
    "    print('Mean R2 Train:', mean_r2_train)\n",
    "\n",
    "    return mean_mae_test, mean_mae_train, mean_r2_test, mean_r2_train"
   ]
  },
  {
   "cell_type": "code",
   "execution_count": null,
   "metadata": {},
   "outputs": [
    {
     "name": "stdout",
     "output_type": "stream",
     "text": [
      "Mean MAE Test: 334.5108878867841\n",
      "Mean MAE Train: 333.89353880237945\n",
      "Mean R2 Test: 0.20120012603045603\n",
      "Mean R2 Train: 0.20437901516932602\n"
     ]
    },
    {
     "data": {
      "text/plain": [
       "(np.float64(334.5108878867841),\n",
       " np.float64(333.89353880237945),\n",
       " np.float64(0.20120012603045603),\n",
       " np.float64(0.20437901516932602))"
      ]
     },
     "execution_count": 56,
     "metadata": {},
     "output_type": "execute_result"
    }
   ],
   "source": [
    "cross_validate_train_and_test(pipeline_lr, 5, X, y)"
   ]
  },
  {
   "attachments": {},
   "cell_type": "markdown",
   "metadata": {},
   "source": [
    "#### Observations\n",
    "- Cool! Compared to our analysis in notebook v1 we see a much better model being fit (MAE was 521 in that case). However the error is still too high for my liking\n",
    "- The key thing to notice here is the very close values between the train and test errors. This indicates the model is **underfitting** and has **high bias**\n",
    "    - lets verify this via a bias-variance decomposition of the squared error"
   ]
  },
  {
   "attachments": {},
   "cell_type": "markdown",
   "metadata": {},
   "source": [
    "#### Bias-Variance Decompisition"
   ]
  },
  {
   "cell_type": "code",
   "execution_count": 57,
   "metadata": {},
   "outputs": [],
   "source": [
    "def bias_variance_pipeline(pipeline, X, y):\n",
    "\n",
    "        pipeline.fit(X_train, y_train)\n",
    "        # Separate the preprocessing step from the pipeline\n",
    "        preprocessor = pipeline.named_steps['preprocessor']\n",
    "\n",
    "        # Transform the training and test data using the preprocessing step\n",
    "        X_train_processed = preprocessor.transform(X_train)\n",
    "        X_test_processed = preprocessor.transform(X_test)\n",
    "\n",
    "        # Now pass the processed NumPy arrays to bias_variance_decomp\n",
    "        avg_expected_loss, avg_bias, avg_var = bias_variance_decomp(\n",
    "                pipeline.named_steps['regressor'],  # Use only the regressor step here\n",
    "                X_train_processed, y_train.ravel(),  # Processed data (NumPy arrays)\n",
    "                X_test_processed, y_test.ravel(),    # Processed data (NumPy arrays)\n",
    "                loss='mse',\n",
    "                random_seed=123)\n",
    "\n",
    "        print(f\"Average Expected Loss: {avg_expected_loss}\")\n",
    "        print(f\"Average Bias: {avg_bias}\")\n",
    "        print(f\"Average Variance: {avg_var}\")\n"
   ]
  },
  {
   "cell_type": "code",
   "execution_count": 58,
   "metadata": {},
   "outputs": [
    {
     "name": "stderr",
     "output_type": "stream",
     "text": [
      "/var/folders/5g/y4dx7m714l7ft2p__s3ybpn80000gn/T/ipykernel_12223/1476791940.py:14: FutureWarning: Series.ravel is deprecated. The underlying array is already 1D, so ravel is not necessary.  Use `to_numpy()` for conversion to a numpy array instead.\n",
      "  X_train_processed, y_train.ravel(),  # Processed data (NumPy arrays)\n",
      "/var/folders/5g/y4dx7m714l7ft2p__s3ybpn80000gn/T/ipykernel_12223/1476791940.py:15: FutureWarning: Series.ravel is deprecated. The underlying array is already 1D, so ravel is not necessary.  Use `to_numpy()` for conversion to a numpy array instead.\n",
      "  X_test_processed, y_test.ravel(),    # Processed data (NumPy arrays)\n"
     ]
    },
    {
     "name": "stdout",
     "output_type": "stream",
     "text": [
      "Average Expected Loss: 156414.90157659826\n",
      "Average Bias: 156300.07895993176\n",
      "Average Variance: 114.82261666649342\n"
     ]
    }
   ],
   "source": [
    "bias_variance_pipeline(pipeline_lr, X_train, y_train)"
   ]
  },
  {
   "attachments": {},
   "cell_type": "markdown",
   "metadata": {},
   "source": [
    "#### Observations\n",
    "- as predicted, the majority of the expected loss is coming from the bias term as opposed to the variance \n",
    "- we should therefore look at a more complex model\n",
    "    - One we we could increase the complexity of the model is via polynomial features so let's try this"
   ]
  },
  {
   "attachments": {},
   "cell_type": "markdown",
   "metadata": {},
   "source": [
    "##### 2.2.1.1 Polynomial Regression"
   ]
  },
  {
   "cell_type": "code",
   "execution_count": 59,
   "metadata": {},
   "outputs": [],
   "source": [
    "def create_poly_pipeline(degree):\n",
    "    preprocessor = ColumnTransformer(\n",
    "            transformers=[\n",
    "                ('num', Pipeline(steps=[\n",
    "                    ('imputer', SimpleImputer(strategy='constant', fill_value=0)),  # Replace missing values with 0\n",
    "                    ('scaler', StandardScaler()),\n",
    "                    ('poly', PolynomialFeatures(degree=degree))  # Standardize numerical features\n",
    "                ]), num_features),\n",
    "                ('cat', OneHotEncoder(handle_unknown='ignore'), cat_features)  # Encode categorical features\n",
    "            ]\n",
    "            )\n",
    "\n",
    "    # Create the pipeline\n",
    "    pipeline_lr_poly = Pipeline(steps=[\n",
    "        ('preprocessor', preprocessor),\n",
    "        ('regressor', LinearRegression())  # Set the depth\n",
    "    ])\n",
    "    return pipeline_lr_poly"
   ]
  },
  {
   "attachments": {},
   "cell_type": "markdown",
   "metadata": {},
   "source": [
    "Let's experiment with a few values of \"degree\" that controls the exponent of the polynomial"
   ]
  },
  {
   "cell_type": "code",
   "execution_count": 60,
   "metadata": {},
   "outputs": [
    {
     "name": "stdout",
     "output_type": "stream",
     "text": [
      "Degree Polynomial:  2\n",
      "Mean MAE Test: 142.47585401571993\n",
      "Mean MAE Train: 139.09452992125082\n",
      "Mean R2 Test: 0.8218158175657502\n",
      "Mean R2 Train: 0.8312239415826109\n",
      "\n"
     ]
    }
   ],
   "source": [
    "mae_test = []\n",
    "mae_train = []\n",
    "degrees = [2]#, 3, 4, 5]\n",
    "for degree in degrees:\n",
    "    print('Degree Polynomial: ', degree)\n",
    "    mean_mae_test, mean_mae_train, _, _ = cross_validate_train_and_test(create_poly_pipeline(degree), 5, X, y)\n",
    "    mae_test.append(mean_mae_test)\n",
    "    mae_train.append(mean_mae_train)\n",
    "    print('')\n"
   ]
  },
  {
   "cell_type": "code",
   "execution_count": 61,
   "metadata": {},
   "outputs": [
    {
     "data": {
      "image/png": "[encoded data removed]",
      "text/plain": [
       "<Figure size 800x600 with 1 Axes>"
      ]
     },
     "metadata": {},
     "output_type": "display_data"
    }
   ],
   "source": [
    "plt.figure(figsize=(8, 6))\n",
    "plt.plot(degrees[0:-1], mae_test[0:-1], label=\"Training\", color=\"r\")\n",
    "plt.plot(degrees[0:-1], mae_train[0:-1], label=\"Validation\", color=\"g\")\n",
    "plt.title(\"Validation Curve for Polynomial Regression with Varying Degrees\")\n",
    "plt.xlabel(\"Degree of Polynomial\")\n",
    "plt.ylabel(\"Mean Absolute Error (MAE)\")\n",
    "plt.tight_layout()\n",
    "plt.legend(loc=\"best\")\n",
    "plt.show()"
   ]
  },
  {
   "attachments": {},
   "cell_type": "markdown",
   "metadata": {},
   "source": [
    "#### Observations\n",
    "- we see a polynomial fit with degree = 3 gives the best generalisation performance here, before the model starts to severely overfit\n",
    "- we could investigate variants of linear regression with regularisation such as Ridge and Lasso regression on these higher degree polynomials to see if we can stop overfitting while retaining the higher perofrmance they are showing on the test set. However the benefits are not hugely better and regularisation will come at the cost of decreases training error. Also computational complexity becomes a concern at these higher degree polynomials"
   ]
  },
  {
   "attachments": {},
   "cell_type": "markdown",
   "metadata": {},
   "source": [
    "### 2.2.1 Support Vector Machine"
   ]
  },
  {
   "cell_type": "code",
   "execution_count": 62,
   "metadata": {},
   "outputs": [],
   "source": [
    "preprocessor = ColumnTransformer(\n",
    "        transformers=[\n",
    "            ('num', Pipeline(steps=[\n",
    "                ('imputer', SimpleImputer(strategy='constant', fill_value=0)),  # Replace missing values with 0\n",
    "                ('scaler', StandardScaler())  # Standardize numerical features\n",
    "            ]), num_features),\n",
    "            ('cat', OneHotEncoder(handle_unknown='ignore'), cat_features)  # Encode categorical features\n",
    "        ]\n",
    "        )\n",
    "\n",
    "# Create the pipeline\n",
    "pipeline_svm = Pipeline(steps=[\n",
    "    ('preprocessor', preprocessor),\n",
    "    ('regressor', SVR(kernel=\"linear\")) \n",
    "])"
   ]
  },
  {
   "cell_type": "code",
   "execution_count": 63,
   "metadata": {},
   "outputs": [
    {
     "name": "stdout",
     "output_type": "stream",
     "text": [
      "Mean MAE Test: 265.6272240847917\n",
      "Mean MAE Train: 264.74610828140965\n",
      "Mean R2 Test: 0.17875467014077875\n",
      "Mean R2 Train: 0.1814525870035984\n"
     ]
    },
    {
     "data": {
      "text/plain": [
       "(np.float64(265.6272240847917),\n",
       " np.float64(264.74610828140965),\n",
       " np.float64(0.17875467014077875),\n",
       " np.float64(0.1814525870035984))"
      ]
     },
     "execution_count": 63,
     "metadata": {},
     "output_type": "execute_result"
    }
   ],
   "source": [
    "cross_validate_train_and_test(pipeline_svm, 5, X, y)"
   ]
  },
  {
   "attachments": {},
   "cell_type": "markdown",
   "metadata": {},
   "source": [
    "Observations\n",
    "- Output is quite poor compared to linear regression so this model doesn't seem suited either"
   ]
  },
  {
   "attachments": {},
   "cell_type": "markdown",
   "metadata": {},
   "source": [
    "## 2.3 Tree Models\n",
    "We will next look at tree models a little more in depth than we have before"
   ]
  },
  {
   "attachments": {},
   "cell_type": "markdown",
   "metadata": {},
   "source": [
    "### 2.3.1 Decision Tree\n",
    "(No preprocessing steps needs for decision tree)"
   ]
  },
  {
   "cell_type": "code",
   "execution_count": 64,
   "metadata": {},
   "outputs": [],
   "source": [
    "preprocessor = ColumnTransformer(\n",
    "        transformers=[\n",
    "            ('cat', OneHotEncoder(handle_unknown='ignore'), cat_features)  # Encode categorical features\n",
    "        ]\n",
    "        )\n",
    "\n",
    "# Create the pipeline\n",
    "pipeline_dt = Pipeline(steps=[\n",
    "    ('preprocessor', preprocessor),\n",
    "    ('regressor', DecisionTreeRegressor())  # Set the depth\n",
    "])"
   ]
  },
  {
   "cell_type": "code",
   "execution_count": 65,
   "metadata": {},
   "outputs": [
    {
     "name": "stdout",
     "output_type": "stream",
     "text": [
      "Mean MAE Test: 246.77794677804226\n",
      "Mean MAE Train: 239.70081146752017\n",
      "Mean R2 Test: 0.5016359714657641\n",
      "Mean R2 Train: 0.5312883614370925\n"
     ]
    },
    {
     "data": {
      "text/plain": [
       "(np.float64(246.77794677804226),\n",
       " np.float64(239.70081146752017),\n",
       " np.float64(0.5016359714657641),\n",
       " np.float64(0.5312883614370925))"
      ]
     },
     "execution_count": 65,
     "metadata": {},
     "output_type": "execute_result"
    }
   ],
   "source": [
    "cross_validate_train_and_test(pipeline_dt, 5, X, y)"
   ]
  },
  {
   "attachments": {},
   "cell_type": "markdown",
   "metadata": {},
   "source": [
    "#### Observations\n",
    "- The performance is worse than linear regression this time now we have reduced the amount of features.\n",
    "- The model is underfitting indicating high bias. Let's confirm this via a bias_variance decomposition"
   ]
  },
  {
   "cell_type": "code",
   "execution_count": 66,
   "metadata": {},
   "outputs": [
    {
     "name": "stderr",
     "output_type": "stream",
     "text": [
      "/var/folders/5g/y4dx7m714l7ft2p__s3ybpn80000gn/T/ipykernel_12223/1476791940.py:14: FutureWarning: Series.ravel is deprecated. The underlying array is already 1D, so ravel is not necessary.  Use `to_numpy()` for conversion to a numpy array instead.\n",
      "  X_train_processed, y_train.ravel(),  # Processed data (NumPy arrays)\n",
      "/var/folders/5g/y4dx7m714l7ft2p__s3ybpn80000gn/T/ipykernel_12223/1476791940.py:15: FutureWarning: Series.ravel is deprecated. The underlying array is already 1D, so ravel is not necessary.  Use `to_numpy()` for conversion to a numpy array instead.\n",
      "  X_test_processed, y_test.ravel(),    # Processed data (NumPy arrays)\n"
     ]
    },
    {
     "name": "stdout",
     "output_type": "stream",
     "text": [
      "Average Expected Loss: 100877.65006886423\n",
      "Average Bias: 97786.51720175426\n",
      "Average Variance: 3091.132867109952\n"
     ]
    }
   ],
   "source": [
    "bias_variance_pipeline(pipeline_dt, X, y)"
   ]
  },
  {
   "attachments": {},
   "cell_type": "markdown",
   "metadata": {},
   "source": [
    "We see again the bias is much higher than the variance.\n",
    "- Let's try more complex tree models"
   ]
  },
  {
   "attachments": {},
   "cell_type": "markdown",
   "metadata": {},
   "source": [
    "### 2.3.2 Random Forest & GBT"
   ]
  },
  {
   "cell_type": "code",
   "execution_count": 67,
   "metadata": {},
   "outputs": [],
   "source": [
    "preprocessor = ColumnTransformer(\n",
    "        transformers=[\n",
    "            ('cat', OneHotEncoder(handle_unknown='ignore'), cat_features)  # Encode categorical features\n",
    "        ]\n",
    "        )\n",
    "\n",
    "# Create the pipeline\n",
    "pipeline_rf = Pipeline(steps=[\n",
    "    ('preprocessor', preprocessor),\n",
    "    ('regressor', RandomForestRegressor())  \n",
    "])\n",
    "\n",
    "pipeline_gbt = Pipeline(steps=[\n",
    "    ('preprocessor', preprocessor),\n",
    "    ('regressor', GradientBoostingRegressor())\n",
    "])"
   ]
  },
  {
   "cell_type": "code",
   "execution_count": 68,
   "metadata": {},
   "outputs": [
    {
     "name": "stdout",
     "output_type": "stream",
     "text": [
      "Random Forest \n",
      "\n",
      "Mean MAE Test: 246.82734020374215\n",
      "Mean MAE Train: 239.70891274171763\n",
      "Mean R2 Test: 0.5013584219077203\n",
      "Mean R2 Train: 0.5311665450873319\n",
      "Gradient Boosted Tree\n",
      "Mean MAE Test: 258.8054224632032\n",
      "Mean MAE Train: 255.85703118706783\n",
      "Mean R2 Test: 0.48515188515971347\n",
      "Mean R2 Train: 0.4983098415278189\n"
     ]
    },
    {
     "data": {
      "text/plain": [
       "(np.float64(258.8054224632032),\n",
       " np.float64(255.85703118706783),\n",
       " np.float64(0.48515188515971347),\n",
       " np.float64(0.4983098415278189))"
      ]
     },
     "execution_count": 68,
     "metadata": {},
     "output_type": "execute_result"
    }
   ],
   "source": [
    "print('Random Forest \\n')\n",
    "cross_validate_train_and_test(pipeline_rf, 5, X, y)\n",
    "print('Gradient Boosted Tree')\n",
    "cross_validate_train_and_test(pipeline_gbt, 5, X, y)\n"
   ]
  },
  {
   "attachments": {},
   "cell_type": "markdown",
   "metadata": {},
   "source": [
    "Results are still poor so lets not go with a tree model"
   ]
  },
  {
   "attachments": {},
   "cell_type": "markdown",
   "metadata": {},
   "source": [
    "## 2.4 Other Models"
   ]
  },
  {
   "attachments": {},
   "cell_type": "markdown",
   "metadata": {},
   "source": [
    "### 2.4.1 KNN"
   ]
  },
  {
   "cell_type": "code",
   "execution_count": 69,
   "metadata": {},
   "outputs": [],
   "source": [
    "preprocessor = ColumnTransformer(\n",
    "        transformers=[\n",
    "            ('num', Pipeline(steps=[\n",
    "                ('imputer', SimpleImputer(strategy='constant', fill_value=0)),  # Replace missing values with 0\n",
    "                ('scaler', StandardScaler())  # Standardize numerical features\n",
    "            ]), num_features),\n",
    "            ('cat', OneHotEncoder(handle_unknown='ignore'), cat_features)  # Encode categorical features\n",
    "        ]\n",
    "        )\n",
    "\n",
    "# Create the pipeline\n",
    "pipeline_knn = Pipeline(steps=[\n",
    "    ('preprocessor', preprocessor),\n",
    "    ('regressor', KNeighborsRegressor(n_neighbors=4, n_jobs=-1)) \n",
    "])"
   ]
  },
  {
   "cell_type": "code",
   "execution_count": 70,
   "metadata": {},
   "outputs": [
    {
     "name": "stdout",
     "output_type": "stream",
     "text": [
      "Mean MAE Test: 102.00994831055297\n",
      "Mean MAE Train: 75.87646680384216\n",
      "Mean R2 Test: 0.8636728939136911\n",
      "Mean R2 Train: 0.923301083835692\n"
     ]
    },
    {
     "data": {
      "text/plain": [
       "(np.float64(102.00994831055297),\n",
       " np.float64(75.87646680384216),\n",
       " np.float64(0.8636728939136911),\n",
       " np.float64(0.923301083835692))"
      ]
     },
     "execution_count": 70,
     "metadata": {},
     "output_type": "execute_result"
    }
   ],
   "source": [
    "cross_validate_train_and_test(pipeline_knn, 5, X, y)\n"
   ]
  },
  {
   "attachments": {},
   "cell_type": "markdown",
   "metadata": {},
   "source": [
    "Observations\n",
    "- KNN gives performance comparable with Polynomial regression"
   ]
  },
  {
   "cell_type": "code",
   "execution_count": 71,
   "metadata": {},
   "outputs": [],
   "source": [
    "\n",
    "preprocessor = ColumnTransformer(\n",
    "        transformers=[\n",
    "            ('num', Pipeline(steps=[\n",
    "                ('imputer', SimpleImputer(strategy='constant', fill_value=0)),  # Replace missing values with 0\n",
    "                ('scaler', StandardScaler())  # Standardize numerical features\n",
    "            ]), num_features),\n",
    "            ('cat', OneHotEncoder(handle_unknown='ignore'), cat_features)  # Encode categorical features\n",
    "        ]\n",
    "        )\n",
    "\n",
    "# Create the pipeline\n",
    "pipeline_nn = Pipeline(steps=[\n",
    "    ('preprocessor', preprocessor),\n",
    "    ('regressor', MLPRegressor(max_iter=1000, solver='lbfgs', alpha=0.001)) \n",
    "])"
   ]
  },
  {
   "cell_type": "code",
   "execution_count": 72,
   "metadata": {},
   "outputs": [
    {
     "name": "stderr",
     "output_type": "stream",
     "text": [
      "/Library/Frameworks/Python.framework/Versions/3.10/lib/python3.10/site-packages/sklearn/neural_network/_multilayer_perceptron.py:545: ConvergenceWarning: lbfgs failed to converge (status=1):\n",
      "STOP: TOTAL NO. of ITERATIONS REACHED LIMIT.\n",
      "\n",
      "Increase the number of iterations (max_iter) or scale the data as shown in:\n",
      "    https://scikit-learn.org/stable/modules/preprocessing.html\n",
      "  self.n_iter_ = _check_optimize_result(\"lbfgs\", opt_res, self.max_iter)\n",
      "/Library/Frameworks/Python.framework/Versions/3.10/lib/python3.10/site-packages/sklearn/neural_network/_multilayer_perceptron.py:545: ConvergenceWarning: lbfgs failed to converge (status=1):\n",
      "STOP: TOTAL NO. of ITERATIONS REACHED LIMIT.\n",
      "\n",
      "Increase the number of iterations (max_iter) or scale the data as shown in:\n",
      "    https://scikit-learn.org/stable/modules/preprocessing.html\n",
      "  self.n_iter_ = _check_optimize_result(\"lbfgs\", opt_res, self.max_iter)\n",
      "/Library/Frameworks/Python.framework/Versions/3.10/lib/python3.10/site-packages/sklearn/neural_network/_multilayer_perceptron.py:545: ConvergenceWarning: lbfgs failed to converge (status=1):\n",
      "STOP: TOTAL NO. of ITERATIONS REACHED LIMIT.\n",
      "\n",
      "Increase the number of iterations (max_iter) or scale the data as shown in:\n",
      "    https://scikit-learn.org/stable/modules/preprocessing.html\n",
      "  self.n_iter_ = _check_optimize_result(\"lbfgs\", opt_res, self.max_iter)\n",
      "/Library/Frameworks/Python.framework/Versions/3.10/lib/python3.10/site-packages/sklearn/neural_network/_multilayer_perceptron.py:545: ConvergenceWarning: lbfgs failed to converge (status=1):\n",
      "STOP: TOTAL NO. of ITERATIONS REACHED LIMIT.\n",
      "\n",
      "Increase the number of iterations (max_iter) or scale the data as shown in:\n",
      "    https://scikit-learn.org/stable/modules/preprocessing.html\n",
      "  self.n_iter_ = _check_optimize_result(\"lbfgs\", opt_res, self.max_iter)\n"
     ]
    },
    {
     "name": "stdout",
     "output_type": "stream",
     "text": [
      "Mean MAE Test: 72.91865298584159\n",
      "Mean MAE Train: 40.39399363757735\n",
      "Mean R2 Test: 0.9374347426809084\n",
      "Mean R2 Train: 0.9839348504374288\n"
     ]
    },
    {
     "name": "stderr",
     "output_type": "stream",
     "text": [
      "/Library/Frameworks/Python.framework/Versions/3.10/lib/python3.10/site-packages/sklearn/neural_network/_multilayer_perceptron.py:545: ConvergenceWarning: lbfgs failed to converge (status=1):\n",
      "STOP: TOTAL NO. of ITERATIONS REACHED LIMIT.\n",
      "\n",
      "Increase the number of iterations (max_iter) or scale the data as shown in:\n",
      "    https://scikit-learn.org/stable/modules/preprocessing.html\n",
      "  self.n_iter_ = _check_optimize_result(\"lbfgs\", opt_res, self.max_iter)\n"
     ]
    },
    {
     "data": {
      "text/plain": [
       "(np.float64(72.91865298584159),\n",
       " np.float64(40.39399363757735),\n",
       " np.float64(0.9374347426809084),\n",
       " np.float64(0.9839348504374288))"
      ]
     },
     "execution_count": 72,
     "metadata": {},
     "output_type": "execute_result"
    }
   ],
   "source": [
    "cross_validate_train_and_test(pipeline_nn, 5, X, y)"
   ]
  },
  {
   "cell_type": "code",
   "execution_count": 73,
   "metadata": {},
   "outputs": [
    {
     "ename": "SyntaxError",
     "evalue": "invalid syntax (3995488660.py, line 2)",
     "output_type": "error",
     "traceback": [
      "\u001b[0;36m  Cell \u001b[0;32mIn[73], line 2\u001b[0;36m\u001b[0m\n\u001b[0;31m    - seb ratcha\u001b[0m\n\u001b[0m          ^\u001b[0m\n\u001b[0;31mSyntaxError\u001b[0m\u001b[0;31m:\u001b[0m invalid syntax\n"
     ]
    }
   ],
   "source": [
    "include\n",
    "- seb ratcha \n",
    "- applied ml in pyton2, validation curve"
   ]
  },
  {
   "cell_type": "code",
   "execution_count": null,
   "metadata": {},
   "outputs": [],
   "source": []
  }
 ],
 "metadata": {
  "kernelspec": {
   "display_name": "Python 3",
   "language": "python",
   "name": "python3"
  },
  "language_info": {
   "codemirror_mode": {
    "name": "ipython",
    "version": 3
   },
   "file_extension": ".py",
   "mimetype": "text/x-python",
   "name": "python",
   "nbconvert_exporter": "python",
   "pygments_lexer": "ipython3",
   "version": "3.10.7"
  },
  "orig_nbformat": 4
 },
 "nbformat": 4,
 "nbformat_minor": 2
}
